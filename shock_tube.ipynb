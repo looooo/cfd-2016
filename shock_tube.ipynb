{
 "cells": [
  {
   "cell_type": "markdown",
   "metadata": {
    "deletable": true,
    "editable": true
   },
   "source": [
    "# Shock problem"
   ]
  },
  {
   "cell_type": "code",
   "execution_count": 3,
   "metadata": {
    "collapsed": false,
    "deletable": true,
    "editable": true
   },
   "outputs": [],
   "source": [
    "import numpy as np\n",
    "import scipy.optimize\n",
    "import matplotlib.pyplot as plt\n",
    "plt.rcParams['figure.figsize'] = 11, 5"
   ]
  },
  {
   "cell_type": "code",
   "execution_count": 4,
   "metadata": {
    "collapsed": false,
    "deletable": true,
    "editable": true
   },
   "outputs": [],
   "source": [
    "class ShockTube(object):\n",
    "    @staticmethod\n",
    "    def shock_tube_function(p4, p1, p5, rho1, rho5, gamma):\n",
    "        z = (p4 / p5 - 1.)\n",
    "        c1 = np.sqrt(gamma * p1 / rho1)\n",
    "        c5 = np.sqrt(gamma * p5 / rho5)\n",
    "        gm1 = gamma - 1.\n",
    "        gp1 = gamma + 1.\n",
    "        g2 = 2. * gamma\n",
    "        fact = gm1 / g2 * (c5 / c1) * z / np.sqrt(1. + gp1 / g2 * z)\n",
    "        fact = (1. - fact) ** (g2 / gm1)\n",
    "        return p1 * fact - p4\n",
    "\n",
    "    def __init__(self, p_1, p_5, rho_1, rho_5, gamma=1.4):\n",
    "        self.gamma = gamma\n",
    "        self.p_1 = p_1\n",
    "        self.p_5 = p_5\n",
    "        self.rho_1 = rho_1\n",
    "        self.rho_5 = rho_5\n",
    "        self.u_1 = 0\n",
    "        self.u_5 = 0\n",
    "        self.p_4 = scipy.optimize.fsolve(self.shock_tube_function, self.p_1, \n",
    "                   (self.p_1, self.p_5, self.rho_1, self.rho_5, self.gamma))[0]\n",
    "        z = (self.p_4 / self.p_5 - 1.)\n",
    "        c5 = np.sqrt(gamma * self.p_5 / self.rho_5)\n",
    "\n",
    "        gm1 = self.gamma - 1.\n",
    "        gp1 = self.gamma + 1.\n",
    "        gmfac1 = 0.5 * gm1 / self.gamma\n",
    "        gmfac2 = 0.5 * gp1 / self.gamma\n",
    "        fact = np.sqrt(1. + gmfac2 * z)\n",
    "        self.u_4 = c5 * z / (self.gamma * fact)\n",
    "        self.rho_4 = self.rho_5 * (1. + gmfac2 * z) / (1. + gmfac1 * z)\n",
    "\n",
    "        # shock speed\n",
    "        self.w = c5 * fact\n",
    "        \n",
    "        self.p_3 = self.p_4\n",
    "        self.u_3 = self.u_4\n",
    "        self.rho_3 = self.rho_1 * (self.p_3 / self.p_1)**(1. / self.gamma)\n",
    "    \n",
    "    def get_positions(self, t):\n",
    "        c1 = np.sqrt(self.gamma * self.p_1 / self.rho_1)\n",
    "        c3 = np.sqrt(self.gamma * self.p_3 / self.rho_3)\n",
    "        return np.array([- c1 * t, (self.u_3 - c3) * t, self.u_3 * t, self.w * t ,])\n",
    "    \n",
    "    def get_points(self, t, num_points=10):\n",
    "        jump = 10e-10\n",
    "        c1 = np.sqrt(self.gamma * self.p_1 / self.rho_1)\n",
    "        c5 = np.sqrt(self.gamma * self.p_5 / self.rho_5)\n",
    "        gm1 = self.gamma - 1.\n",
    "        gp1 = self.gamma + 1.\n",
    "        pos = self.get_positions(t)\n",
    "        x_pos_1_2 = np.linspace(pos[0], pos[1], num_points)\n",
    "        x_min = pos[0] - (pos[-1] - pos[0]) * 0.4\n",
    "        x_max = pos[-1] + (pos[-1] - pos[0]) * 0.4\n",
    "\n",
    "        u_1_2 = 2. / gp1 * (c1 + x_pos_1_2 / t)\n",
    "        fact = 1. - 0.5 * gm1 * u_1_2 / c1\n",
    "        rho_1_2 = self.rho_1 * fact ** (2. / gm1)\n",
    "        p_1_2 = self.p_1 * fact ** (2. * self.gamma / gm1)\n",
    "\n",
    "        x_values = np.array([x_min] + list(x_pos_1_2) + \n",
    "                            [pos[2], pos[2] + jump, pos[3], pos[3] + jump, x_max])\n",
    "        p_values = np.array([self.p_1] + list(p_1_2) +\n",
    "                            [self.p_3, self.p_4, self.p_4, self.p_5, self.p_5])\n",
    "        u_values = np.array([self.u_1] + list(u_1_2) +\n",
    "                            [self.u_3, self.u_4, self.u_4, self.u_5, self.u_5])\n",
    "        rho_values = np.array([self.rho_1] + list(rho_1_2) +\n",
    "                            [self.rho_3, self.rho_4, self.rho_4, \n",
    "                             self.rho_5, self.rho_5])\n",
    "        return x_values, p_values, rho_values, u_values, x_min, x_max"
   ]
  },
  {
   "cell_type": "code",
   "execution_count": 7,
   "metadata": {
    "collapsed": false,
    "deletable": true,
    "editable": true
   },
   "outputs": [
    {
     "data": {
      "image/png": "[encoded data removed]",
      "text/plain": [
       "<matplotlib.figure.Figure at 0x7fbfdf660160>"
      ]
     },
     "metadata": {},
     "output_type": "display_data"
    }
   ],
   "source": [
    "tube = ShockTube(1., 0.1, 1., 0.125)\n",
    "x, p, rho, u, x_min, x_max = tube.get_points(0.2)\n",
    "plt.plot(x, p, linewidth=1.5, color='b', label=r'$p$')\n",
    "plt.plot(x, rho, linewidth=1.5, color='r', label=r'$\\rho$')\n",
    "plt.plot(x, u, linewidth=1.5, color='g', label=r'$u$')\n",
    "plt.xlabel('x')\n",
    "plt.legend()\n",
    "plt.axis([x_min, x_max, -0.1, 1.1])\n",
    "plt.show()"
   ]
  }
 ],
 "metadata": {
  "kernelspec": {
   "display_name": "Python 3",
   "language": "python",
   "name": "python3"
  },
  "language_info": {
   "codemirror_mode": {
    "name": "ipython",
    "version": 3
   },
   "file_extension": ".py",
   "mimetype": "text/x-python",
   "name": "python",
   "nbconvert_exporter": "python",
   "pygments_lexer": "ipython3",
   "version": "3.5.3"
  }
 },
 "nbformat": 4,
 "nbformat_minor": 2
}
